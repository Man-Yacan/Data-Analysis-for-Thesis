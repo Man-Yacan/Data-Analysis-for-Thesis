{
 "cells": [
  {
   "cell_type": "code",
   "execution_count": null,
   "metadata": {
    "collapsed": false,
    "pycharm": {
     "name": "#%%\n"
    }
   },
   "outputs": [],
   "source": [
    "import os\n",
    "import pandas as pd\n",
    "import seaborn as sns\n",
    "import matplotlib.pyplot as plt"
   ]
  },
  {
   "cell_type": "code",
   "execution_count": null,
   "metadata": {
    "collapsed": false,
    "pycharm": {
     "name": "#%%\n"
    }
   },
   "outputs": [],
   "source": [
    "# 绘图全局设置\n",
    "sns.set_theme(style=\"whitegrid\", font='Times New Roman', font_scale=3)"
   ]
  },
  {
   "cell_type": "code",
   "execution_count": null,
   "metadata": {
    "collapsed": false,
    "pycharm": {
     "name": "#%%\n"
    }
   },
   "outputs": [],
   "source": [
    "# 输出文件路径\n",
    "PATH, DPI = './export/', 300\n",
    "# 获取26个英文字母，用于给子图编号\n",
    "CHAR = [chr(i) for i in range(97, 123)]"
   ]
  },
  {
   "cell_type": "code",
   "execution_count": null,
   "metadata": {
    "collapsed": false,
    "pycharm": {
     "name": "#%%\n"
    }
   },
   "outputs": [],
   "source": [
    "# 读取数据\n",
    "# size_per_0 = pd.read_excel('./data.xlsx', sheet_name=0)\n",
    "size_per_0 = pd.read_csv('./data/data.csv')\n",
    "size_per = size_per_0.copy(deep=True)\n",
    "size_per"
   ]
  },
  {
   "cell_type": "code",
   "execution_count": null,
   "metadata": {
    "collapsed": false,
    "pycharm": {
     "name": "#%%\n"
    }
   },
   "outputs": [],
   "source": [
    "# 预处理\n",
    "size_per.set_index('Size (µm)', inplace=True)  # 设置行索引\n",
    "size_per.dropna(how='all', inplace=True)  # 删除缺失值（行全为空与列全为空）\n",
    "size_per.dropna(how='all', axis=1, inplace=True)\n",
    "size_per"
   ]
  },
  {
   "cell_type": "code",
   "execution_count": null,
   "metadata": {
    "collapsed": false,
    "pycharm": {
     "name": "#%%\n"
    }
   },
   "outputs": [],
   "source": [
    "size_per.T"
   ]
  },
  {
   "cell_type": "code",
   "execution_count": null,
   "metadata": {
    "collapsed": false,
    "pycharm": {
     "name": "#%%\n"
    }
   },
   "outputs": [],
   "source": [
    "# 转置\n",
    "size_per_T = size_per.T\n",
    "size_per_T"
   ]
  },
  {
   "cell_type": "code",
   "execution_count": null,
   "metadata": {
    "collapsed": false,
    "pycharm": {
     "name": "#%%\n"
    }
   },
   "outputs": [],
   "source": [
    "# 去除掉大粒径颗粒\n",
    "size_per_T = size_per_T[[i for i in size_per_T.columns if i < 400]]"
   ]
  },
  {
   "cell_type": "code",
   "execution_count": null,
   "metadata": {
    "collapsed": false,
    "pycharm": {
     "name": "#%%\n"
    }
   },
   "outputs": [],
   "source": [
    "# 根据每一行的行索引来为每一行增加Period、River列，例如：行索引为D-N6，那么其Period为Dry Season、River为NanFei River\n",
    "# size_per_T.drop('Period', axis=1, inplace=True)\n",
    "\n",
    "size_per_T = size_per_T.copy()  # 当向列表中增加一列时，需要先将变量复制一份，再添加才可以。我看官方文档里都是这么做的，好像是为了防止数据丢失？因为Pandas操作每一步都是不可逆的\n",
    "\n",
    "# 时期转化参照\n",
    "# season_paras = {\n",
    "#     'D': 'Dry Season',\n",
    "#     'L': 'Level Season',\n",
    "#     'W': 'Wet Season'\n",
    "# }\n",
    "#\n",
    "# # 地点转化参照\n",
    "# site_paras = {\n",
    "#     'N': 'NanFei River',\n",
    "#     'P': 'Pai River',\n",
    "#     'H': 'Hangbu River'\n",
    "# }\n",
    "#\n",
    "# for item in season_paras.items():\n",
    "#     size_per_T.loc[[i for i in size_per_T.index if item[0] in i], 'Period'] = item[1]\n",
    "#     # 不能使用此种方式修改，语法上没毛病，但是就是不能修改！！！\n",
    "#     # size_per_T.loc[[i for i in size_per_T.index if item[0] in i],]['Period'] = item[1]\n",
    "#\n",
    "# for item in site_paras.items():\n",
    "#     size_per_T.loc[[i for i in size_per_T.index if item[0] in i], 'River'] = item[1]\n",
    "\n",
    "\n",
    "size_per_T['Period'] = size_per_T.apply(lambda x: 'Dry' if 'D' in x.name else ('Wet' if 'W' in x.name else 'Level'),\n",
    "                                        axis=1) + ' Season'\n",
    "size_per_T['River'] = size_per_T.apply(lambda x: 'Nanfei' if 'N' in x.name else ('Pai' if 'P' in x.name else 'Hangbu'),\n",
    "                                       axis=1) + ' River'\n",
    "\n",
    "size_per_T.index.name = 'ID'\n",
    "\n",
    "size_per_T"
   ]
  },
  {
   "cell_type": "code",
   "execution_count": null,
   "metadata": {
    "collapsed": false,
    "pycharm": {
     "name": "#%%\n"
    }
   },
   "outputs": [],
   "source": [
    "# 按时期分开绘制不同时期的图形\n",
    "plt.figure(figsize=(60, 20))\n",
    "\n",
    "# 枯水期底泥粒径百分比分布图\n",
    "# sns.violinplot()\n",
    "sns.boxplot(\n",
    "    data=size_per_T[size_per_T.Period == 'Dry Season'],\n",
    "    # hue=size_per_T.Period,\n",
    "    notch=True\n",
    ")\n",
    "\n",
    "# 箱型图上加上散点图\n",
    "# sns.stripplot(data=size_per_T[size_per_T.Period == 'Dry Season'],\n",
    "#               size=4, color=\".3\", linewidth=0)\n",
    "\n",
    "plt.xticks(rotation=90)  # x轴坐标文字旋转\n",
    "plt.ylabel('Probability of occurrence(%)')  # y轴轴名\n",
    "\n",
    "# plt.savefig(PATH + '枯水期-底泥粒径百分比分布图', dpi=DPI, bbox_inches='tight')"
   ]
  },
  {
   "cell_type": "code",
   "execution_count": null,
   "metadata": {
    "collapsed": false,
    "pycharm": {
     "name": "#%%\n"
    }
   },
   "outputs": [],
   "source": [
    "# 平水期底泥粒径百分比分布\n",
    "plt.figure(figsize=(60, 20))\n",
    "\n",
    "sns.boxplot(\n",
    "    data=size_per_T[size_per_T.Period == 'Level Season'],\n",
    "    notch=True)\n",
    "\n",
    "plt.xticks(rotation=90)  # x轴坐标文字旋转\n",
    "plt.ylabel('Probability of occurrence(%)')  # y轴轴名\n",
    "\n",
    "plt.savefig(PATH + '平水期-底泥粒径百分比分布图', dpi=DPI, bbox_inches='tight')"
   ]
  },
  {
   "cell_type": "code",
   "execution_count": null,
   "metadata": {
    "collapsed": false,
    "pycharm": {
     "name": "#%%\n"
    }
   },
   "outputs": [],
   "source": [
    "# 三个时期整体底泥粒径百分比分布\n",
    "plt.figure(figsize=(60, 20))\n",
    "\n",
    "sns.boxplot(\n",
    "    data=size_per_T,\n",
    "    notch=True)\n",
    "\n",
    "plt.xticks(rotation=90)  # x轴坐标文字旋转\n",
    "plt.ylabel('Probability of occurrence(%)')  # y轴轴名\n",
    "\n",
    "plt.savefig(PATH + '三个时期整体-底泥粒径百分比分布图', dpi=DPI, bbox_inches='tight')"
   ]
  },
  {
   "cell_type": "code",
   "execution_count": null,
   "metadata": {
    "collapsed": false,
    "pycharm": {
     "name": "#%%\n"
    }
   },
   "outputs": [],
   "source": [
    "# 将不同时期的数据绘制到一张表上，使用melt函数将宽数据转化为长数据\n",
    "size_per_T_long = size_per_T\n",
    "# size_per_T_long = size_per_T_long.copy()\n",
    "size_per_T_long['ID'] = size_per_T.index\n",
    "size_per_T_long = size_per_T_long.melt(id_vars=['ID', 'Period', 'River'])\n",
    "size_per_T_long"
   ]
  },
  {
   "cell_type": "code",
   "execution_count": null,
   "metadata": {
    "collapsed": false,
    "pycharm": {
     "name": "#%%\n"
    }
   },
   "outputs": [],
   "source": [
    "plt.figure(figsize=(60, 20))\n",
    "\n",
    "ax = sns.boxplot(\n",
    "    x=\"Size (µm)\",\n",
    "    y=\"value\",\n",
    "    hue=\"Period\",\n",
    "    data=size_per_T_long,\n",
    "    notch=True  # 加入参数\n",
    ")\n",
    "\n",
    "plt.xticks(rotation=90)  # x轴坐标文字旋转\n",
    "plt.ylabel('Probability of occurrence(%)')  # y轴轴名\n",
    "plt.legend(loc='upper left', ncol=2, title='Period')  # 添加图例\n",
    "\n",
    "plt.savefig(PATH + '三个时期对比-底泥粒径百分比分布图', dpi=DPI, bbox_inches='tight')"
   ]
  },
  {
   "cell_type": "code",
   "execution_count": null,
   "metadata": {
    "collapsed": false,
    "pycharm": {
     "name": "#%%\n"
    }
   },
   "outputs": [],
   "source": [
    "plt.figure(figsize=(60, 20))\n",
    "\n",
    "sns.boxplot(\n",
    "    x=\"Size (µm)\",\n",
    "    y=\"value\",\n",
    "    hue=\"River\",\n",
    "    data=size_per_T_long,\n",
    "    notch=True  # 加入缺口\n",
    ")\n",
    "\n",
    "plt.xticks(rotation=90)  # x轴坐标文字旋转\n",
    "plt.ylabel('Probability of occurrence(%)')  # y轴轴名\n",
    "plt.legend(loc='upper left', ncol=3, title='River')  # 添加图例\n",
    "\n",
    "plt.savefig(PATH + '三条河流对比-底泥粒径百分比分布图', dpi=DPI, bbox_inches='tight')"
   ]
  },
  {
   "cell_type": "code",
   "execution_count": null,
   "metadata": {
    "collapsed": false,
    "pycharm": {
     "name": "#%%\n"
    }
   },
   "outputs": [],
   "source": [
    "fig, ax_arr = plt.subplots(2, 1, figsize=(60, 25), sharex='col')\n",
    "\n",
    "fig.subplots_adjust(hspace=0.05)  # 设置子图的横纵间距\n",
    "\n",
    "sns.boxplot(\n",
    "    x=\"Size (µm)\",\n",
    "    y=\"value\",\n",
    "    hue=\"Period\",\n",
    "    data=size_per_T_long,\n",
    "    notch=True,  # 加入参数\n",
    "    ax=ax_arr[0]\n",
    ")\n",
    "\n",
    "ax_arr[0].set_xlabel(None)  # 注意：子图的属性设置方式与单一图不同，使用ax_arr[0].xticks()则报错\n",
    "ax_arr[0].legend(loc='upper left', ncol=2, title='Period')  # 添加图例\n",
    "ax_arr[0].set_ylabel('Probability of occurrence(%)')  # y轴轴名\n",
    "\n",
    "# sns.violinplot()\n",
    "sns.boxplot(\n",
    "    x=\"Size (µm)\",\n",
    "    y=\"value\",\n",
    "    hue=\"River\",\n",
    "    data=size_per_T_long,\n",
    "    notch=True,  # 加入缺口\n",
    "    ax=ax_arr[1]\n",
    ")\n",
    "\n",
    "plt.xticks(rotation=90)  # x轴坐标文字旋转（这个x轴是整个主图的x轴，因此使用plt.xticks()来设置属性，使用ax_arr[1].set_xlabel()会报错）\n",
    "ax_arr[1].set_ylabel('Probability of occurrence(%)')  # y轴轴名\n",
    "ax_arr[1].legend(loc='upper left', ncol=3, title='River')  # 添加图例\n",
    "\n",
    "plt.savefig(PATH + '季节&位点对比-底泥粒径百分比分布图', dpi=DPI, bbox_inches='tight')"
   ]
  },
  {
   "cell_type": "code",
   "execution_count": null,
   "metadata": {
    "collapsed": false,
    "pycharm": {
     "name": "#%%\n"
    }
   },
   "outputs": [],
   "source": [
    "size_per_T_long"
   ]
  },
  {
   "cell_type": "code",
   "execution_count": null,
   "metadata": {
    "collapsed": false,
    "pycharm": {
     "name": "#%%\n"
    }
   },
   "outputs": [],
   "source": [
    "season_list = size_per_T_long.Period.unique().tolist()\n",
    "season_list"
   ]
  },
  {
   "cell_type": "code",
   "execution_count": null,
   "metadata": {
    "collapsed": false,
    "pycharm": {
     "name": "#%%\n"
    }
   },
   "outputs": [],
   "source": [
    "fig, ax_arr = plt.subplots(len(season_list), 1, figsize=(60, 40), sharex='col')\n",
    "\n",
    "fig.subplots_adjust(hspace=0.05)  # 设置子图的横纵间距\n",
    "\n",
    "for i in range(len(ax_arr)):\n",
    "    item = sns.boxplot(\n",
    "        x=\"Size (µm)\",\n",
    "        y=\"value\",\n",
    "        hue=\"River\",\n",
    "        data=size_per_T_long[size_per_T_long['Period'] == season_list[i]],\n",
    "        notch=True,  # 加入缺口\n",
    "        ax=ax_arr[i]\n",
    "    )\n",
    "\n",
    "    # 删除子图的图例\n",
    "    item.get_legend().remove()\n",
    "    # 子图添加编号\n",
    "    item.text(\n",
    "        0.02,\n",
    "        0.9,\n",
    "        f\"({CHAR[i]}) - {season_list[i]}\",\n",
    "        transform=item.transAxes,  # 默认的话前两个参数是(x, y)坐标，设置该属性后是相较于x、y轴的比例\n",
    "        # fontdict={'size': '16', 'color': 'b'}\n",
    "    )\n",
    "    # 设置子图x轴名称，只保留最后一个子图的轴名称，其余删除\n",
    "    if i != len(ax_arr)-1:\n",
    "        item.set_xlabel(None)\n",
    "    else:\n",
    "        item.set_xlabel('Particle size(μm)')\n",
    "    # 设置子图y轴名称\n",
    "    item.set_ylabel('Percentage(%)')\n",
    "\n",
    "plt.xticks(rotation=90)  # x轴坐标文字旋转（这个x轴是整个主图的x轴，因此使用plt.xticks()来设置属性，使用ax_arr[1].set_xlabel()会报错）\n",
    "# 添加图例\n",
    "lines, labels = fig.axes[-1].get_legend_handles_labels()  # 三个子图的图例相同，获取最后一个子图的图例\n",
    "fig.legend(lines, labels, ncol=3, loc='upper center', bbox_to_anchor=(0.5, 0.91))\n",
    "# 保存\n",
    "plt.savefig(PATH + '三个时期每条河流粒径分布百分比图', dpi=DPI, bbox_inches='tight')\n",
    "# 打开保存文件夹\n",
    "os.startfile(os.getcwd() + PATH)"
   ]
  },
  {
   "cell_type": "code",
   "execution_count": null,
   "metadata": {
    "collapsed": false,
    "pycharm": {
     "name": "#%%\n"
    }
   },
   "outputs": [],
   "source": [
    "# 打开保存文件夹\n",
    "os.startfile(os.getcwd() + PATH)"
   ]
  }
 ],
 "metadata": {
  "kernelspec": {
   "display_name": "Python 3",
   "language": "python",
   "name": "python3"
  },
  "language_info": {
   "codemirror_mode": {
    "name": "ipython",
    "version": 2
   },
   "file_extension": ".py",
   "mimetype": "text/x-python",
   "name": "python",
   "nbconvert_exporter": "python",
   "pygments_lexer": "ipython2",
   "version": "2.7.6"
  }
 },
 "nbformat": 4,
 "nbformat_minor": 0
}
