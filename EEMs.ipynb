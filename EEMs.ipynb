{
 "cells": [
  {
   "cell_type": "code",
   "execution_count": null,
   "metadata": {
    "collapsed": false,
    "pycharm": {
     "name": "#%%\n"
    }
   },
   "outputs": [],
   "source": [
    "from ResearchMain import *"
   ]
  },
  {
   "cell_type": "code",
   "execution_count": null,
   "metadata": {
    "collapsed": false,
    "pycharm": {
     "name": "#%%\n"
    }
   },
   "outputs": [],
   "source": [
    "DATA_PATH = os.getcwd() + '\\\\data\\\\EEMs\\\\'"
   ]
  },
  {
   "cell_type": "code",
   "execution_count": null,
   "metadata": {
    "collapsed": false,
    "pycharm": {
     "name": "#%%\n"
    }
   },
   "outputs": [],
   "source": [
    "def from_file_path_get_name(path):\n",
    "    \"\"\"\n",
    "    根据文件路径分割出文件名，并进行修饰\n",
    "    :param path: 文件路径\n",
    "    :return: 文件名\n",
    "    \"\"\"\n",
    "    name = path.split('\\\\')[-1].split('.')[0]\n",
    "    if name.startswith('1'):\n",
    "        return 'D-' + name[1:]\n",
    "    elif name.startswith('2'):\n",
    "        return 'L-' + name[1:]\n",
    "    elif name.startswith('3'):\n",
    "        return 'W-' + name[1:]\n",
    "\n",
    "\n",
    "def get_skip_rows(path):\n",
    "    \"\"\"\n",
    "    读取txt文件，并在文件中查找含有'Data Points'的行，数据矩阵就在这一行的下面\n",
    "    :param path: 文件路径\n",
    "    :return: 数据矩阵开始的行号\n",
    "    \"\"\"\n",
    "    f = open(path)\n",
    "    for index, line in enumerate(f.readlines()):\n",
    "        if 'Data Points' in line:\n",
    "            return index + 1\n"
   ]
  },
  {
   "cell_type": "code",
   "execution_count": null,
   "metadata": {
    "collapsed": false,
    "pycharm": {
     "name": "#%%\n"
    }
   },
   "outputs": [],
   "source": [
    "# 创建一个空df，用于保存所有df\n",
    "col_name = ['ID', 'SkipRows', 'Path']\n",
    "eems_df = pd.DataFrame(columns=col_name)\n",
    "\n",
    "\n",
    "def get_all_files(root_path=DATA_PATH, suffix='.TXT'):\n",
    "    \"\"\"\n",
    "        递归获取文件夹内所有文件\n",
    "    :param root_path: 文件夹路径\n",
    "    :param suffix: 文件后缀\n",
    "    \"\"\"\n",
    "    # 获取的当前文件夹路径不是当前文件所在的文件夹路径，而是Python程序运行时CMD窗口所运行的文件夹！\n",
    "    global eems_df\n",
    "    file_list = os.listdir(root_path)\n",
    "    # 判断路径为文件还是文件夹\n",
    "    if file_list:\n",
    "        for f in file_list:\n",
    "            temp_path = root_path + f\n",
    "            if os.path.isdir(temp_path):  # 是文件夹，进行递归操作\n",
    "                get_all_files(temp_path)\n",
    "            elif os.path.isfile(temp_path):  # 是文件\n",
    "                if f.endswith(suffix):  # 是数据文件\n",
    "                    name = from_file_path_get_name(temp_path)\n",
    "                    skip_rows = get_skip_rows(temp_path)\n",
    "                    _ = pd.DataFrame([[name, skip_rows, temp_path]], columns=col_name)\n",
    "                    eems_df = pd.concat([eems_df, _])\n",
    "            else:\n",
    "                # 特殊无后缀文件\n",
    "                print(\"it's a special file(socket,FIFO,device file):\" + temp_path)\n",
    "    else:\n",
    "        hues.warn(f'The path <{root_path}> don\\'t have files.')\n",
    "\n",
    "\n",
    "get_all_files()\n",
    "eems_df"
   ]
  },
  {
   "cell_type": "code",
   "execution_count": null,
   "metadata": {
    "collapsed": false,
    "pycharm": {
     "name": "#%%\n"
    }
   },
   "outputs": [],
   "source": [
    "# 预处理\n",
    "eems_df = eems_df.set_index('ID')  # 设置ID列为索引\n",
    "\n",
    "# 向df中新增季节、河流两列，用于数据区分与排序，整体上的顺序是：南淝河<派河<杭埠河, 枯水期<平水期<丰水期\n",
    "eems_df['Period'] = eems_df.apply(lambda x: 'Dry' if 'D' in x.name else ('Wet' if 'W' in x.name else 'Level'),\n",
    "                                  axis=1) + ' Season'\n",
    "\n",
    "\n",
    "def check_river(s):\n",
    "    \"\"\"\n",
    "    根据每一行的ID判断每一行数据属于哪一行\n",
    "    :param s:\n",
    "    :return:\n",
    "    \"\"\"\n",
    "\n",
    "    if 'BlankSample' in s.name:\n",
    "        return np.nan\n",
    "    else:\n",
    "        return_str = ''\n",
    "        if 'N' in s.name:\n",
    "            return_str = 'Nanfei'\n",
    "        elif 'P' in s.name:\n",
    "            return_str = 'Pai'\n",
    "        elif 'H' in s.name:\n",
    "            return_str = 'Hangbu'\n",
    "        return_str += ' River'\n",
    "        return return_str\n",
    "\n",
    "\n",
    "eems_df['River'] = eems_df.apply(check_river, axis=1)\n",
    "eems_df['River'] = eems_df['River'].astype(river_order)\n",
    "eems_df['Period'] = eems_df['Period'].astype(period_order)\n",
    "eems_df = eems_df.sort_values(by=['Period', 'River'])\n",
    "eems_df"
   ]
  },
  {
   "cell_type": "code",
   "execution_count": null,
   "metadata": {
    "collapsed": false,
    "pycharm": {
     "name": "#%%\n"
    }
   },
   "outputs": [],
   "source": [
    "def handle_eems_df(df_id, info_df=eems_df):\n",
    "    \"\"\"\n",
    "    根据输入的df_id去eems_df表中查找df，然后对df进行数据处理，最后返回。样本数据处理：1、去除拉曼散射（减去空白样）；2、过滤负值；3、消除瑞利散射\n",
    "    :param info_df: 用于查找信息的表\n",
    "    :param df_id: df的ID，根据eems_df表中的ID为准\n",
    "    :return: 返回修改后的df\n",
    "    \"\"\"\n",
    "    if 'BlankSample' in df_id:  # 过滤出空白样\n",
    "        return None\n",
    "    else:\n",
    "        try:\n",
    "            search_info = info_df.loc[df_id]\n",
    "        except NameError:\n",
    "            hues.error(f'未在\"info_df\"中查询到ID={df_id}的数据行信息！！！')\n",
    "            return None\n",
    "        else:\n",
    "            # 读取数据表\n",
    "            df = pd.read_table(search_info['Path'], skiprows=search_info['SkipRows'], index_col=0)\n",
    "        # 1、减去空白样（拉曼散射）\n",
    "        blank_search_info = None\n",
    "        if df_id.startswith('D-'):  # 枯水期\n",
    "            blank_search_info = info_df.loc['D-BlankSample']\n",
    "        elif df_id.startswith('L-'):  # 平水期\n",
    "            blank_search_info = info_df.loc['L-BlankSample']\n",
    "        elif df_id.startswith('W-'):  # 丰水期\n",
    "            blank_search_info = info_df.loc['W-BlankSample']\n",
    "        df_blank = pd.read_table(blank_search_info['Path'], skiprows=blank_search_info['SkipRows'], index_col=0)\n",
    "        modify_df = df - df_blank\n",
    "        # 2、扣除空白样品后，需要将df中的所有负值清除（Tips：负值在原理上没有意义，但是在实际实验检测过程中出现是很正常的）\n",
    "        modify_df = modify_df.applymap(lambda x: 0 if x < 0 else x)\n",
    "        # 3、消除瑞利散射\n",
    "        for i in range(modify_df.shape[0]):  # 遍历ex\n",
    "            for j in range(modify_df.shape[1]):  # 遍历em\n",
    "                ex = 200 + i * 5  # ex范围为200~450，间隔为5\n",
    "                em = 280 + j * 5  # em范围为280~550，间隔为5\n",
    "                if ex + 455 > em > ex + 145:\n",
    "                    modify_df.iloc[i, j] = 0  # 不能使用0, 因为0是有意义的数据\n",
    "        # 4、将columns转化为数字类型，方便后续使用\n",
    "        modify_df.columns = modify_df.columns.astype(float)\n",
    "\n",
    "        return modify_df"
   ]
  },
  {
   "cell_type": "code",
   "execution_count": null,
   "metadata": {
    "collapsed": false,
    "pycharm": {
     "name": "#%%\n"
    }
   },
   "outputs": [],
   "source": [
    "handle_eems_df('D-H1')"
   ]
  },
  {
   "cell_type": "code",
   "execution_count": null,
   "metadata": {
    "collapsed": false,
    "pycharm": {
     "name": "#%%\n"
    }
   },
   "outputs": [],
   "source": [
    "# 绘图全局设置——设置字体(主要字体/数学公式字符集)\n",
    "rc = {'font.family': 'Times New Roman',  # 默认字体\n",
    "      'mathtext.fontset': 'stix',  # 数学字符集\n",
    "      'font.size': 60\n",
    "      }\n",
    "mpl.rcParams.update(rc)  # 根据dict一次性更新很多参数\n",
    "# 绘图分区\n",
    "subarea = {\n",
    "    'Ⅰ': [(200, 280), (250, 330)],  #\n",
    "    'Ⅱ': [(200, 330), (250, 380)],\n",
    "    'Ⅲ': [(200, 380), (250, 550)],\n",
    "    'Ⅳ': [(250, 280), (450, 330)],\n",
    "    'Ⅴ': [(250, 330), (450, 550)]\n",
    "}\n",
    "\n",
    "plot_bottom_distance = {\n",
    "    'D': 0.2,\n",
    "    'L': 0.15,\n",
    "    'W': 0.15\n",
    "}"
   ]
  },
  {
   "cell_type": "code",
   "execution_count": null,
   "metadata": {
    "collapsed": false,
    "pycharm": {
     "name": "#%%\n"
    }
   },
   "outputs": [],
   "source": [
    "# 绘图可视化\n",
    "PERIOD = 'W'  # PERIOD=D, L, W\n",
    "plot_df = eems_df[eems_df['Period'].str.startswith(PERIOD) & ~pd.isnull(eems_df['River'])].copy()\n",
    "PIG_NUM = plot_df.shape[0]  # 子图总个数\n",
    "COL_NUM = 6  # 图片中子图的列数\n",
    "ROW_NUM = math.ceil(PIG_NUM // COL_NUM)\n",
    "\n",
    "# 根据每条河的ID重新排序\n",
    "plot_df['SortNum'] = plot_df.index.str[3:].astype(float)\n",
    "plot_df = plot_df.sort_values(by=['River', 'SortNum'])"
   ]
  },
  {
   "cell_type": "code",
   "execution_count": null,
   "metadata": {
    "collapsed": false,
    "pycharm": {
     "name": "#%%\n"
    }
   },
   "outputs": [],
   "source": [
    "# 布图设置\n",
    "fig, ax_arr = plt.subplots(nrows=ROW_NUM, ncols=COL_NUM, figsize=(COL_NUM * 10, ROW_NUM * 10 + 3), sharex='all',\n",
    "                           sharey='all')\n",
    "fig.subplots_adjust(hspace=0.01, wspace=0.01)\n",
    "\n",
    "# 默认绘图坐标轴后面是透明的，调整下成白色背景\n",
    "fig.patch.set_alpha(1.0)\n",
    "fig.patch.set_facecolor('white')\n",
    "\n",
    "# 循环绘制三维荧光图\n",
    "k = 0  # 循环控制变量，用于控制编号\n",
    "for file_info in plot_df.iterrows():\n",
    "    # 数据准备\n",
    "    df_name = file_info[0]\n",
    "    cur_df = handle_eems_df(df_name)  # 传入文件名，即可获得处理后的df\n",
    "    X, Y, Z = np.array(cur_df.columns.astype('float')), np.array(cur_df.index), np.array(cur_df)\n",
    "    Z_MIN, Z_MAX, Z_STEP = 0, np.max(Z), 10\n",
    "    X, Y = np.meshgrid(X, Y)\n",
    "    N = np.arange(Z_MIN, Z_MAX, Z_STEP)\n",
    "    # 计算行、列编号\n",
    "    row_num = k // COL_NUM\n",
    "    col_num = k % COL_NUM\n",
    "    cur_ax = ax_arr[row_num][col_num]\n",
    "    # 绘图\n",
    "    cur_plot = cur_ax.contourf(X, Y, Z, N, cmap=mpl.cm.jet)\n",
    "    # 子图添加编号\n",
    "    cur_ax.text(\n",
    "        405,\n",
    "        355,\n",
    "        f'({df_name})',\n",
    "        fontdict={'size': '50', 'color': 'white'},\n",
    "        ha='center', va='center'\n",
    "    )\n",
    "    # 每行第一个子图设置y轴名称\n",
    "    if k % COL_NUM == 0:\n",
    "        cur_ax.set_ylabel('$Em(nm)$')\n",
    "    # 最后一行子图设置x轴名称与x轴刻度\n",
    "    if PIG_NUM - k <= COL_NUM:\n",
    "        plt.xticks(np.linspace(250, 400, 3, endpoint=True))\n",
    "    cur_ax.set_xlabel('$Ex(nm)$')\n",
    "    # 等高线\n",
    "    # cur_ax.contour(X, Y, Z, Z_STEP)\n",
    "    # 绘制区域分割线\n",
    "    cur_ax.axvline(250, color='white', linestyle='--', linewidth=5)\n",
    "    cur_ax.axhline(330, color='white', linestyle='--', linewidth=5)\n",
    "    cur_ax.axhline(380, xmin=0, xmax=0.2, color='white', linestyle='--', linewidth=5)\n",
    "    # 添加分区编号文字\n",
    "    for area_name, coordinate in subarea.items():\n",
    "        small_x, small_y, big_x, big_y = coordinate[0][0], coordinate[0][1], coordinate[1][0], coordinate[1][1]\n",
    "        center_x = (big_x - small_x) / 2 + small_x\n",
    "        center_y = (big_y - small_y) / 2 + small_y\n",
    "        cur_ax.text(center_x, center_y, area_name, horizontalalignment='center', verticalalignment='center',\n",
    "                    fontdict={'size': '40', 'color': 'white'}, )\n",
    "        # 每次循环结束k+1\n",
    "    k += 1\n",
    "\n",
    "# 添加颜色条\n",
    "fig.subplots_adjust(bottom=plot_bottom_distance[PERIOD])\n",
    "cbar_ax = fig.add_axes([0.15, 0.1, 0.7, 0.01])  # [left, bottom, width, height]  # 控制颜色条位置、大小\n",
    "fig.colorbar(cur_plot, cax=cbar_ax, label='Signal value', orientation='horizontal')  # cur_plot是for循环里面的变量，为啥可以在外部调用？？？\n",
    "\n",
    "# 保存\n",
    "plt.savefig(EXPORT_PATH + f'[{PERIOD}]底泥DOM三维荧光图', dpi=DPI, bbox_inches='tight')\n",
    "# 清除matplotlib设置"
   ]
  }
 ],
 "metadata": {
  "kernelspec": {
   "display_name": "Python 3",
   "language": "python",
   "name": "python3"
  },
  "language_info": {
   "codemirror_mode": {
    "name": "ipython",
    "version": 2
   },
   "file_extension": ".py",
   "mimetype": "text/x-python",
   "name": "python",
   "nbconvert_exporter": "python",
   "pygments_lexer": "ipython2",
   "version": "2.7.6"
  }
 },
 "nbformat": 4,
 "nbformat_minor": 0
}
